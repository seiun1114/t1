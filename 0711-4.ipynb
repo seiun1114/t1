{
 "cells": [
  {
   "cell_type": "code",
   "execution_count": 1,
   "id": "3cb1091a",
   "metadata": {},
   "outputs": [
    {
     "name": "stdout",
     "output_type": "stream",
     "text": [
      "請輸入年份2001\n",
      "平年\n"
     ]
    }
   ],
   "source": [
    "year=int(input(\"請輸入年份\"))\n",
    "if year%4==0 and year%100!=0: \n",
    "    print(\"閏年\")\n",
    "elif year%100==0 and (year%400==0 or year%1000==0): \n",
    "    print(\"閏年\")\n",
    "else:\n",
    "    print(\"平年\")\n",
    "    "
   ]
  },
  {
   "cell_type": "code",
   "execution_count": null,
   "id": "f7f4a8b7",
   "metadata": {},
   "outputs": [],
   "source": []
  }
 ],
 "metadata": {
  "kernelspec": {
   "display_name": "Python 3 (ipykernel)",
   "language": "python",
   "name": "python3"
  },
  "language_info": {
   "codemirror_mode": {
    "name": "ipython",
    "version": 3
   },
   "file_extension": ".py",
   "mimetype": "text/x-python",
   "name": "python",
   "nbconvert_exporter": "python",
   "pygments_lexer": "ipython3",
   "version": "3.10.9"
  }
 },
 "nbformat": 4,
 "nbformat_minor": 5
}
